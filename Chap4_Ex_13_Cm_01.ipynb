{
  "nbformat": 4,
  "nbformat_minor": 0,
  "metadata": {
    "colab": {
      "provenance": [],
      "authorship_tag": "ABX9TyOgSEh6FMaIhmKBH1u0n5Jd",
      "include_colab_link": true
    },
    "kernelspec": {
      "name": "python3",
      "display_name": "Python 3"
    },
    "language_info": {
      "name": "python"
    }
  },
  "cells": [
    {
      "cell_type": "markdown",
      "metadata": {
        "id": "view-in-github",
        "colab_type": "text"
      },
      "source": [
        "<a href=\"https://colab.research.google.com/github/TabatHaru/EU_M_Math-Repository/blob/main/Chap4_Ex_13_Cm_01.ipynb\" target=\"_parent\"><img src=\"https://colab.research.google.com/assets/colab-badge.svg\" alt=\"Open In Colab\"/></a>"
      ]
    },
    {
      "cell_type": "code",
      "execution_count": 1,
      "metadata": {
        "id": "4u8fZDYzfGOW"
      },
      "outputs": [],
      "source": [
        "import numpy as np\n",
        "import scipy as sp\n",
        "import pandas as pd\n",
        "from pandas import Series, DataFrame\n",
        "\n",
        "import matplotlib.pyplot as plt\n",
        "import matplotlib as mpl\n",
        "import seaborn as sns\n",
        "%matplotlib inline\n",
        "\n",
        "%precision 3\n",
        "\n",
        "np.random.seed(0)"
      ]
    },
    {
      "cell_type": "code",
      "source": [
        "pwd"
      ],
      "metadata": {
        "colab": {
          "base_uri": "https://localhost:8080/",
          "height": 36
        },
        "id": "_2OMkDxUfalF",
        "outputId": "398cdf1f-8f45-4df9-c4a2-c386f96b4ed2"
      },
      "execution_count": 2,
      "outputs": [
        {
          "output_type": "execute_result",
          "data": {
            "text/plain": [
              "'/content'"
            ],
            "application/vnd.google.colaboratory.intrinsic+json": {
              "type": "string"
            }
          },
          "metadata": {},
          "execution_count": 2
        }
      ]
    },
    {
      "cell_type": "code",
      "source": [
        "mkdir chap3"
      ],
      "metadata": {
        "id": "VI5JY3c4f5N1"
      },
      "execution_count": 4,
      "outputs": []
    },
    {
      "cell_type": "code",
      "source": [
        "cd ./chap3/"
      ],
      "metadata": {
        "colab": {
          "base_uri": "https://localhost:8080/"
        },
        "id": "e4oZTKKBgD1P",
        "outputId": "facaf439-b840-4b43-ba58-f347ffead946"
      },
      "execution_count": 5,
      "outputs": [
        {
          "output_type": "stream",
          "name": "stdout",
          "text": [
            "/content/chap3\n"
          ]
        }
      ]
    },
    {
      "cell_type": "code",
      "source": [
        "import requests, zipfile\n",
        "from io import StringIO\n",
        "import io"
      ],
      "metadata": {
        "id": "17peWaqVgHFZ"
      },
      "execution_count": 7,
      "outputs": []
    },
    {
      "cell_type": "code",
      "source": [
        "url = 'http://archive.ics.uci.edu/ml/machine-learning-databases/00356/student.zip'\n",
        "\n",
        "r = requests.get(url, stream=True)\n",
        "\n",
        "z = zipfile.ZipFile(io.BytesIO(r.content))\n",
        "z.extractall()\n"
      ],
      "metadata": {
        "id": "cV7L5pC6gY46"
      },
      "execution_count": 9,
      "outputs": []
    },
    {
      "cell_type": "code",
      "source": [
        "student_data_math = pd.read_csv('student-mat.csv',sep=';')\n",
        "student_data_por = pd.read_csv('student-por.csv', sep=';')\n",
        "student_data_merge = pd.merge(student_data_math\n",
        "                              ,student_data_por\n",
        "                              , on=['school', 'sex', 'age', 'address', 'famsize', 'Pstatus', 'Medu'\n",
        "                              , 'Fedu', 'Mjob', 'Fjob', 'reason', 'nursery', 'internet']\n",
        "                              , how='inner', suffixes=('_math' , '_por'))\n",
        "\n",
        "from scipy import stats\n",
        "\n",
        "print('G2数学の成績平均 :', student_data_merge.G2_math.mean())\n",
        "print('G2ポルトガル語の成績平均 :', student_data_merge.G2_por.mean())\n",
        "\n",
        "t,p = stats.ttest_rel(student_data_merge.G2_math, student_data_merge.G2_por)\n",
        "print('p値 =', p)\n"
      ],
      "metadata": {
        "colab": {
          "base_uri": "https://localhost:8080/"
        },
        "id": "SPcIfrJuhJ37",
        "outputId": "31c3e305-8b61-40d1-9dbf-e644362f1939"
      },
      "execution_count": 11,
      "outputs": [
        {
          "output_type": "stream",
          "name": "stdout",
          "text": [
            "G2数学の成績平均 : 10.712041884816754\n",
            "G2ポルトガル語の成績平均 : 12.238219895287958\n",
            "p値 = 4.0622824801348625e-19\n"
          ]
        }
      ]
    },
    {
      "cell_type": "code",
      "source": [
        "print('数学の欠席数平均 :', student_data_merge.absences_math.mean())\n",
        "print('ポルトガル語の欠席平均 :', student_data_merge.absences_por.mean())\n",
        "\n",
        "t, p = stats.ttest_rel(student_data_merge.absences_math, student_data_merge.absences_por)\n",
        "print('p値 :', p)"
      ],
      "metadata": {
        "colab": {
          "base_uri": "https://localhost:8080/"
        },
        "id": "kCTKKp9Rk668",
        "outputId": "4dcf025f-a983-4109-c1c9-172a3a6377b7"
      },
      "execution_count": 12,
      "outputs": [
        {
          "output_type": "stream",
          "name": "stdout",
          "text": [
            "数学の欠席数平均 : 5.319371727748691\n",
            "ポルトガル語の欠席平均 : 3.6727748691099475\n",
            "p値 : 2.3441656888384195e-06\n"
          ]
        }
      ]
    }
  ]
}
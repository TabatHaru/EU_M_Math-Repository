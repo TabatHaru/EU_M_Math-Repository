{
  "nbformat": 4,
  "nbformat_minor": 0,
  "metadata": {
    "colab": {
      "provenance": [],
      "authorship_tag": "ABX9TyOfLDbjiZbXsjr/gw/6MKnq",
      "include_colab_link": true
    },
    "kernelspec": {
      "name": "python3",
      "display_name": "Python 3"
    },
    "language_info": {
      "name": "python"
    }
  },
  "cells": [
    {
      "cell_type": "markdown",
      "metadata": {
        "id": "view-in-github",
        "colab_type": "text"
      },
      "source": [
        "<a href=\"https://colab.research.google.com/github/TabatHaru/EU_M_Math-Repository/blob/program/Chap01_Cm_01_02.ipynb\" target=\"_parent\"><img src=\"https://colab.research.google.com/assets/colab-badge.svg\" alt=\"Open In Colab\"/></a>"
      ]
    },
    {
      "cell_type": "code",
      "source": [
        "def prime_number(num):\n",
        "    if num < 2:\n",
        "        return False\n",
        "    for i in range(2, int(num**0.5) + 1):\n",
        "        if num % i == 0:\n",
        "          #余りが0\n",
        "            return False\n",
        "    return True\n",
        "\n",
        "# 1以上10以下の範囲に絞る\n",
        "for i in range(1, 11):\n",
        "    if prime_number(i):\n",
        "        print(i)\n"
      ],
      "metadata": {
        "id": "aHsDZO6EJOnt",
        "colab": {
          "base_uri": "https://localhost:8080/"
        },
        "outputId": "395e42d4-4276-45cc-949a-c59402a52799"
      },
      "execution_count": null,
      "outputs": [
        {
          "output_type": "stream",
          "name": "stdout",
          "text": [
            "2\n",
            "3\n",
            "5\n",
            "7\n"
          ]
        }
      ]
    },
    {
      "cell_type": "code",
      "source": [
        "def prime(N):\n",
        "    prime = []\n",
        "    for a in range(2, N):\n",
        "        for b in range(2, int(N**0.5)+1):\n",
        "            if a % b == 0:\n",
        "                break\n",
        "        else:\n",
        "            prime.append(a)\n",
        "    return prime\n",
        "prime(70)\n"
      ],
      "metadata": {
        "colab": {
          "base_uri": "https://localhost:8080/"
        },
        "id": "Rhm3jZFXv30-",
        "outputId": "273688f4-70ae-4a49-ed4b-c42faa090ba6"
      },
      "execution_count": null,
      "outputs": [
        {
          "output_type": "execute_result",
          "data": {
            "text/plain": [
              "[11, 13, 17, 19, 23, 29, 31, 37, 41, 43, 47, 53, 59, 61, 67]"
            ]
          },
          "metadata": {},
          "execution_count": 11
        }
      ]
    }
  ]
}
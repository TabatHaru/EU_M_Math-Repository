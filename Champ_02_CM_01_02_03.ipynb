{
  "nbformat": 4,
  "nbformat_minor": 0,
  "metadata": {
    "colab": {
      "provenance": [],
      "authorship_tag": "ABX9TyOnCQ7ZUIlJ8LhYGyfHHH8+"
    },
    "kernelspec": {
      "name": "python3",
      "display_name": "Python 3"
    },
    "language_info": {
      "name": "python"
    }
  },
  "cells": [
    {
      "cell_type": "code",
      "execution_count": 7,
      "metadata": {
        "id": "Z4MohVrOj5hQ"
      },
      "outputs": [],
      "source": [
        "import math\n",
        "\n",
        "import numpy as np\n",
        "\n",
        "N = 10000\n",
        "\n",
        "x = np.random.uniform(0.0, 1.0, N)\n",
        "y = np.random.uniform(0.0, 1.0, N)\n"
      ]
    },
    {
      "cell_type": "code",
      "source": [
        "inside_x = []\n",
        "inside_y = []\n",
        "\n",
        "outside_x = []\n",
        "outside_y = []\n",
        "\n",
        "count_inside = 0\n",
        "for count in range(0, N):\n",
        "  d = math.hypot(x[count], y[count])\n",
        "  if d < 1:\n",
        "    count_inside += 1\n",
        "\n",
        "    inside_x.append(x[count])\n",
        "    inside_y.append(y[count])\n",
        "\n",
        "  else:\n",
        "    outside_x.append(x[count])\n",
        "    outside_y.append(y[count])\n",
        "\n",
        "print(\"円の内部に入った数:\",count_inside)"
      ],
      "metadata": {
        "colab": {
          "base_uri": "https://localhost:8080/"
        },
        "id": "OHu2-dRLlq72",
        "outputId": "b2818e87-7f7e-474c-dd42-9a33df88f512"
      },
      "execution_count": 9,
      "outputs": [
        {
          "output_type": "stream",
          "name": "stdout",
          "text": [
            "円の内部に入った数: 7937\n"
          ]
        }
      ]
    },
    {
      "cell_type": "code",
      "source": [
        "print(\"円周率の近似値:\", 4.0 * count_inside / N)"
      ],
      "metadata": {
        "colab": {
          "base_uri": "https://localhost:8080/"
        },
        "id": "d0LsYq-NnGcl",
        "outputId": "b0489aea-4b53-4b99-8536-bdb2c67b5352"
      },
      "execution_count": 12,
      "outputs": [
        {
          "output_type": "stream",
          "name": "stdout",
          "text": [
            "円周率の近似値: 3.1748\n"
          ]
        }
      ]
    }
  ]
}